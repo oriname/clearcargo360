{
 "cells": [
  {
   "cell_type": "code",
   "execution_count": null,
   "id": "initial_id",
   "metadata": {
    "collapsed": true
   },
   "outputs": [],
   "source": []
  },
  {
   "cell_type": "code",
   "outputs": [
    {
     "name": "stdout",
     "output_type": "stream",
     "text": [
      "AIR ANGOLA : DT566A, DT5640I, DT564B\n",
      "Air France : AF0132\n",
      "Air Peace Limited : UR-0900, UR900, P47579, P47661, UR-900\n",
      "Allied Air : 8V2610\n",
      "British Airways : BA075A, BA075B, BA075\n",
      "DHL International Nigeria Limited : QY081, QY081A\n",
      "Delta Airline : DL054B, DL054, DL054A\n",
      "Egypt Air : MS552, MS552A, MS875\n",
      "Emirates Airline : EK0783\n",
      "Ethiopia Airline : ET3613, ET901F, ET901C, ET901, ET3911, ET3623, ET3905Z\n",
      "KLM Royal Dutch : KL587C, KL587E, KL587\n",
      "Kenya Airways : KQ0534, KQ0532\n",
      "Lufthansa German Airlines : LH0568\n",
      "Qatar Airways : QR1407, QR8702, QR8586, QR1405\n",
      "Royal Air Maroc : AT555, AT555A\n",
      "Rwandair : WB202, WB202C\n",
      "Saudia Airlines : SV3953C\n",
      "South African Airways : SA0060, SA0060A\n",
      "Turkish Airline : TK625, TK6327, TK6196A, TK625B, TK625A\n",
      "UNITED AIRLINES : UA0612\n",
      "Virgin Atlantic : VS0411, VS0411A\n"
     ]
    }
   ],
   "source": [
    "import pandas as pd\n",
    "\n",
    "# --- CONFIG -----------------------------------------------------------------\n",
    "RAW_EXCEL   = \"raw.xlsx\"  # <- your file\n",
    "MAIN_SHEET  = \"Sheet1\"                                           # sheet name\n",
    "OPERATOR_COL = \"OperatorName\"                                       # column headings\n",
    "CALLSIGN_COL = \"CallSign_FlightNo\"                                  # (exact spelling)\n",
    "# --------------------------------------------------------------------------- #\n",
    "\n",
    "def extract_call_signs(path: str,\n",
    "                       sheet: str = MAIN_SHEET,\n",
    "                       op_col: str = OPERATOR_COL,\n",
    "                       cs_col: str = CALLSIGN_COL) -> dict[str, list[str]]:\n",
    "    \"\"\"\n",
    "    Return {OperatorName: [unique call-signs]} from the Excel sheet.\n",
    "    \"\"\"\n",
    "    df = pd.read_excel(path, sheet_name=sheet)\n",
    "    df.columns = [c.strip() for c in df.columns]           # trim spaces\n",
    "    pairs = (df[[op_col, cs_col]]\n",
    "             .dropna()                                     # drop rows with NaNs\n",
    "             .drop_duplicates())                           # remove duplicates\n",
    "\n",
    "    return (pairs.groupby(op_col)[cs_col]\n",
    "                 .apply(list)                              # list of call signs\n",
    "                 .to_dict())\n",
    "\n",
    "# Run and print\n",
    "if __name__ == \"__main__\":\n",
    "    call_sign_map = extract_call_signs(RAW_EXCEL)\n",
    "\n",
    "    for operator, signs in call_sign_map.items():\n",
    "        print(f\"{operator} : {', '.join(signs)}\")\n"
   ],
   "metadata": {
    "collapsed": false,
    "ExecuteTime": {
     "end_time": "2025-06-15T03:46:01.177175Z",
     "start_time": "2025-06-15T03:46:00.965848Z"
    }
   },
   "id": "b4f3d5d06af4e6cd",
   "execution_count": 6
  },
  {
   "cell_type": "code",
   "outputs": [],
   "source": [],
   "metadata": {
    "collapsed": false
   },
   "id": "fa33e1656755d3be",
   "execution_count": null
  },
  {
   "cell_type": "code",
   "outputs": [],
   "source": [],
   "metadata": {
    "collapsed": false
   },
   "id": "30a6604c7d3a4509"
  }
 ],
 "metadata": {
  "kernelspec": {
   "display_name": "Python 3",
   "language": "python",
   "name": "python3"
  },
  "language_info": {
   "codemirror_mode": {
    "name": "ipython",
    "version": 2
   },
   "file_extension": ".py",
   "mimetype": "text/x-python",
   "name": "python",
   "nbconvert_exporter": "python",
   "pygments_lexer": "ipython2",
   "version": "2.7.6"
  }
 },
 "nbformat": 4,
 "nbformat_minor": 5
}
